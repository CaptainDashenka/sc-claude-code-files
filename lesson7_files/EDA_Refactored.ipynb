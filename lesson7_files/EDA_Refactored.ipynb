{
 "cells": [
  {
   "cell_type": "markdown",
   "metadata": {},
   "source": [
    "# E-commerce Business Performance Analysis\n",
    "\n",
    "**Objective:** Comprehensive analysis of e-commerce business performance focusing on revenue trends, product categories, geographic distribution, and customer experience metrics.\n",
    "\n",
    "**Dataset:** Brazilian e-commerce public dataset containing orders, customers, products, and reviews data from 2022-2023.\n",
    "\n",
    "---\n",
    "\n",
    "## Table of Contents\n",
    "\n",
    "1. [Configuration & Data Loading](#1-configuration--data-loading)\n",
    "2. [Data Dictionary](#2-data-dictionary) \n",
    "3. [Data Preparation & Transformation](#3-data-preparation--transformation)\n",
    "4. [Revenue Performance Analysis](#4-revenue-performance-analysis)\n",
    "5. [Product Category Analysis](#5-product-category-analysis)\n",
    "6. [Geographic Performance Analysis](#6-geographic-performance-analysis)\n",
    "7. [Customer Experience Analysis](#7-customer-experience-analysis)\n",
    "8. [Key Insights & Summary](#8-key-insights--summary)\n",
    "\n",
    "---"
   ]
  },
  {
   "cell_type": "markdown",
   "metadata": {},
   "source": [
    "## 1. Configuration & Data Loading\n",
    "\n",
    "Configure analysis parameters and load e-commerce datasets using our custom data loading module."
   ]
  },
  {
   "cell_type": "code",
   "execution_count": 20,
   "metadata": {},
   "outputs": [
    {
     "name": "stdout",
     "output_type": "stream",
     "text": [
      "Libraries and modules loaded successfully!\n"
     ]
    }
   ],
   "source": [
    "# Import required libraries\n",
    "import pandas as pd\n",
    "import numpy as np\n",
    "import matplotlib.pyplot as plt\n",
    "import plotly.express as px\n",
    "import warnings\n",
    "warnings.filterwarnings('ignore')\n",
    "\n",
    "# Import custom modules\n",
    "from data_loader import (\n",
    "    load_ecommerce_datasets, \n",
    "    preprocess_orders_data, \n",
    "    create_sales_dataset,\n",
    "    filter_data_by_date_range,\n",
    "    add_delivery_metrics,\n",
    "    get_data_summary\n",
    ")\n",
    "from business_metrics import (\n",
    "    BusinessMetricsCalculator, \n",
    "    MetricsVisualizer, \n",
    "    print_metrics_summary\n",
    ")\n",
    "\n",
    "# Set display options\n",
    "pd.set_option('display.max_columns', None)\n",
    "pd.set_option('display.precision', 2)\n",
    "\n",
    "print(\"Libraries and modules loaded successfully!\")"
   ]
  },
  {
   "cell_type": "code",
   "execution_count": 21,
   "metadata": {},
   "outputs": [
    {
     "name": "stdout",
     "output_type": "stream",
     "text": [
      "Analysis Configuration:\n",
      "  Primary Analysis Year: 2023\n",
      "  Comparison Year: 2022\n",
      "  Month Range: All to All\n",
      "  Order Status Filter: delivered\n"
     ]
    }
   ],
   "source": [
    "# ANALYSIS CONFIGURATION - Modify these parameters to change analysis scope\n",
    "\n",
    "# Primary analysis year\n",
    "ANALYSIS_YEAR = 2023\n",
    "\n",
    "# Comparison year for growth calculations  \n",
    "COMPARISON_YEAR = 2022\n",
    "\n",
    "# Optional: Filter by specific months (set to None to analyze full year)\n",
    "START_MONTH = None  # 1-12\n",
    "END_MONTH = None    # 1-12\n",
    "\n",
    "# Data path\n",
    "DATA_PATH = 'ecommerce_data'\n",
    "\n",
    "# Order status filter (usually 'delivered' for revenue analysis)\n",
    "ORDER_STATUS_FILTER = 'delivered'\n",
    "\n",
    "print(f\"Analysis Configuration:\")\n",
    "print(f\"  Primary Analysis Year: {ANALYSIS_YEAR}\")\n",
    "print(f\"  Comparison Year: {COMPARISON_YEAR}\")\n",
    "print(f\"  Month Range: {START_MONTH or 'All'} to {END_MONTH or 'All'}\")\n",
    "print(f\"  Order Status Filter: {ORDER_STATUS_FILTER}\")"
   ]
  },
  {
   "cell_type": "code",
   "execution_count": 22,
   "metadata": {},
   "outputs": [
    {
     "name": "stdout",
     "output_type": "stream",
     "text": [
      "Loaded orders: (10000, 8)\n",
      "Loaded order_items: (16047, 7)\n",
      "Loaded products: (6000, 9)\n",
      "Loaded customers: (8000, 5)\n",
      "Loaded reviews: (6571, 7)\n",
      "=== E-COMMERCE DATASETS SUMMARY ===\n",
      "\n",
      "ORDERS DATASET:\n",
      "  Shape: (10000, 8)\n",
      "  Columns: ['order_id', 'customer_id', 'order_status', 'order_purchase_timestamp', 'order_approved_at', 'order_delivered_carrier_date', 'order_delivered_customer_date', 'order_estimated_delivery_date']\n",
      "  Date range: 2021-12-31 16:55:08.451178 to 2024-01-01 04:57:29.647794\n",
      "  Missing values: 927\n",
      "\n",
      "ORDER_ITEMS DATASET:\n",
      "  Shape: (16047, 7)\n",
      "  Columns: ['order_id', 'order_item_id', 'product_id', 'seller_id', 'shipping_limit_date', 'price', 'freight_value']\n",
      "  Missing values: 0\n",
      "\n",
      "PRODUCTS DATASET:\n",
      "  Shape: (6000, 9)\n",
      "  Columns: ['product_id', 'product_category_name', 'product_name_length', 'product_description_length', 'product_photos_qty', 'product_weight_g', 'product_length_cm', 'product_height_cm', 'product_width_cm']\n",
      "  Missing values: 0\n",
      "\n",
      "CUSTOMERS DATASET:\n",
      "  Shape: (8000, 5)\n",
      "  Columns: ['customer_id', 'customer_unique_id', 'customer_zip_code_prefix', 'customer_city', 'customer_state']\n",
      "  Missing values: 0\n",
      "\n",
      "REVIEWS DATASET:\n",
      "  Shape: (6571, 7)\n",
      "  Columns: ['review_id', 'order_id', 'review_score', 'review_comment_title', 'review_comment_message', 'review_creation_date', 'review_answer_timestamp']\n",
      "  Missing values: 7157\n",
      "\n"
     ]
    }
   ],
   "source": [
    "# Load all e-commerce datasets\n",
    "datasets = load_ecommerce_datasets(DATA_PATH)\n",
    "\n",
    "# Extract individual datasets\n",
    "orders = datasets['orders']\n",
    "order_items = datasets['order_items']\n",
    "products = datasets['products']\n",
    "customers = datasets['customers']\n",
    "reviews = datasets['reviews']\n",
    "\n",
    "# Display dataset summary\n",
    "get_data_summary(datasets)"
   ]
  },
  {
   "cell_type": "markdown",
   "metadata": {},
   "source": [
    "## 2. Data Dictionary\n",
    "\n",
    "Understanding the key columns and business terms used in our analysis.\n",
    "\n",
    "### Key Business Terms\n",
    "\n",
    "**Revenue Metrics:**\n",
    "- **Total Revenue:** Sum of all delivered order item prices\n",
    "- **Average Order Value (AOV):** Average total value per order\n",
    "- **Month-over-Month Growth:** Percentage change in revenue between consecutive months\n",
    "\n",
    "**Customer Experience Metrics:**\n",
    "- **Delivery Days:** Time between order purchase and customer delivery\n",
    "- **Review Score:** Customer satisfaction rating (1-5 scale)\n",
    "- **Delivery Speed Categories:** 1-3 days (Fast), 4-7 days (Standard), 8+ days (Slow)\n",
    "\n",
    "### Dataset Columns\n",
    "\n",
    "**Orders Dataset:**\n",
    "- `order_id`: Unique identifier for each order\n",
    "- `customer_id`: Unique identifier for each customer\n",
    "- `order_status`: Current status (delivered, shipped, canceled, etc.)\n",
    "- `order_purchase_timestamp`: When the order was placed\n",
    "- `order_delivered_customer_date`: When delivered to customer\n",
    "\n",
    "**Order Items Dataset:**\n",
    "- `order_id`: Links to orders dataset\n",
    "- `product_id`: Unique identifier for each product\n",
    "- `price`: Item price in USD\n",
    "- `freight_value`: Shipping cost\n",
    "\n",
    "**Products Dataset:**\n",
    "- `product_id`: Unique identifier for each product\n",
    "- `product_category_name`: Product category classification\n",
    "\n",
    "**Customers Dataset:**\n",
    "- `customer_id`: Unique identifier for each customer\n",
    "- `customer_state`: Two-letter state code\n",
    "- `customer_city`: Customer city\n",
    "\n",
    "**Reviews Dataset:**\n",
    "- `order_id`: Links to orders dataset\n",
    "- `review_score`: Customer rating (1-5)\n",
    "- `review_creation_date`: When review was created"
   ]
  },
  {
   "cell_type": "markdown",
   "metadata": {},
   "source": [
    "## 3. Data Preparation & Transformation\n",
    "\n",
    "Preprocess datasets and create unified sales data for analysis."
   ]
  },
  {
   "cell_type": "code",
   "execution_count": 23,
   "metadata": {},
   "outputs": [
    {
     "name": "stdout",
     "output_type": "stream",
     "text": [
      "Orders dataset preprocessed:\n",
      "  Date range: 2021-12-31 16:55:08.451178 to 2024-01-01 04:57:29.647794\n",
      "  Years available: [np.int32(2021), np.int32(2022), np.int32(2023), np.int32(2024)]\n",
      "  Order statuses: ['canceled' 'delivered' 'pending' 'processing' 'shipped' 'returned']\n"
     ]
    }
   ],
   "source": [
    "# Preprocess orders data (add date components)\n",
    "orders_processed = preprocess_orders_data(orders)\n",
    "\n",
    "print(\"Orders dataset preprocessed:\")\n",
    "print(f\"  Date range: {orders_processed['order_purchase_timestamp'].min()} to {orders_processed['order_purchase_timestamp'].max()}\")\n",
    "print(f\"  Years available: {sorted(orders_processed['year'].unique())}\")\n",
    "print(f\"  Order statuses: {orders_processed['order_status'].unique()}\")"
   ]
  },
  {
   "cell_type": "code",
   "execution_count": 24,
   "metadata": {},
   "outputs": [
    {
     "name": "stdout",
     "output_type": "stream",
     "text": [
      "Sales dataset created:\n",
      "  Total records: 15,095\n",
      "  Unique orders: 9,388\n",
      "  Date range: 2021-12-31 16:55:08.451178 to 2024-01-01 04:12:51.260674\n",
      "\n",
      "Columns: ['order_id', 'order_item_id', 'product_id', 'seller_id', 'price', 'freight_value', 'customer_id', 'order_status', 'order_purchase_timestamp', 'order_delivered_customer_date', 'year', 'month', 'quarter', 'day_of_week', 'total_item_value', 'delivery_days', 'delivery_speed_category']\n"
     ]
    }
   ],
   "source": [
    "# Create unified sales dataset\n",
    "sales_data = create_sales_dataset(\n",
    "    orders=orders_processed, \n",
    "    order_items=order_items,\n",
    "    order_status_filter=ORDER_STATUS_FILTER\n",
    ")\n",
    "\n",
    "# Add delivery metrics\n",
    "sales_data = add_delivery_metrics(sales_data)\n",
    "\n",
    "print(f\"Sales dataset created:\")\n",
    "print(f\"  Total records: {len(sales_data):,}\")\n",
    "print(f\"  Unique orders: {sales_data['order_id'].nunique():,}\")\n",
    "print(f\"  Date range: {sales_data['order_purchase_timestamp'].min()} to {sales_data['order_purchase_timestamp'].max()}\")\n",
    "print(f\"\\nColumns: {list(sales_data.columns)}\")"
   ]
  },
  {
   "cell_type": "code",
   "execution_count": 25,
   "metadata": {},
   "outputs": [
    {
     "name": "stdout",
     "output_type": "stream",
     "text": [
      "Filtered dataset for analysis:\n",
      "  Records: 7,448\n",
      "  Orders: 4,635\n",
      "  Total Revenue: $3,360,294.74\n",
      "\n",
      "Sample of analysis data:\n"
     ]
    },
    {
     "data": {
      "text/html": [
       "<div>\n",
       "<style scoped>\n",
       "    .dataframe tbody tr th:only-of-type {\n",
       "        vertical-align: middle;\n",
       "    }\n",
       "\n",
       "    .dataframe tbody tr th {\n",
       "        vertical-align: top;\n",
       "    }\n",
       "\n",
       "    .dataframe thead th {\n",
       "        text-align: right;\n",
       "    }\n",
       "</style>\n",
       "<table border=\"1\" class=\"dataframe\">\n",
       "  <thead>\n",
       "    <tr style=\"text-align: right;\">\n",
       "      <th></th>\n",
       "      <th>order_id</th>\n",
       "      <th>order_item_id</th>\n",
       "      <th>product_id</th>\n",
       "      <th>seller_id</th>\n",
       "      <th>price</th>\n",
       "      <th>freight_value</th>\n",
       "      <th>customer_id</th>\n",
       "      <th>order_status</th>\n",
       "      <th>order_purchase_timestamp</th>\n",
       "      <th>order_delivered_customer_date</th>\n",
       "      <th>year</th>\n",
       "      <th>month</th>\n",
       "      <th>quarter</th>\n",
       "      <th>day_of_week</th>\n",
       "      <th>total_item_value</th>\n",
       "      <th>delivery_days</th>\n",
       "      <th>delivery_speed_category</th>\n",
       "    </tr>\n",
       "  </thead>\n",
       "  <tbody>\n",
       "    <tr>\n",
       "      <th>2</th>\n",
       "      <td>ord_5fa044951857e02fd1347b47</td>\n",
       "      <td>1</td>\n",
       "      <td>prod_9b6f1793388ae983f852d189</td>\n",
       "      <td>sell_34212979d97b6d1a8409a01e</td>\n",
       "      <td>111.91</td>\n",
       "      <td>9.50</td>\n",
       "      <td>cust_2d36e4b647be13c15df550af</td>\n",
       "      <td>delivered</td>\n",
       "      <td>2023-04-24 13:05:32.579655</td>\n",
       "      <td>2023-05-01 02:05:32.579655</td>\n",
       "      <td>2023</td>\n",
       "      <td>4</td>\n",
       "      <td>2</td>\n",
       "      <td>Monday</td>\n",
       "      <td>121.41</td>\n",
       "      <td>6</td>\n",
       "      <td>4-7 days</td>\n",
       "    </tr>\n",
       "    <tr>\n",
       "      <th>3</th>\n",
       "      <td>ord_5fa044951857e02fd1347b47</td>\n",
       "      <td>2</td>\n",
       "      <td>prod_c7b5997a4d0061a9f50e874c</td>\n",
       "      <td>sell_4668fb88b81f8d834371c335</td>\n",
       "      <td>878.42</td>\n",
       "      <td>77.50</td>\n",
       "      <td>cust_2d36e4b647be13c15df550af</td>\n",
       "      <td>delivered</td>\n",
       "      <td>2023-04-24 13:05:32.579655</td>\n",
       "      <td>2023-05-01 02:05:32.579655</td>\n",
       "      <td>2023</td>\n",
       "      <td>4</td>\n",
       "      <td>2</td>\n",
       "      <td>Monday</td>\n",
       "      <td>955.92</td>\n",
       "      <td>6</td>\n",
       "      <td>4-7 days</td>\n",
       "    </tr>\n",
       "    <tr>\n",
       "      <th>7</th>\n",
       "      <td>ord_43b53981d951f855231d09ec</td>\n",
       "      <td>1</td>\n",
       "      <td>prod_496e129d773e9587e8ddc065</td>\n",
       "      <td>sell_6cfe47a34211c0b92f0fd126</td>\n",
       "      <td>749.83</td>\n",
       "      <td>13.94</td>\n",
       "      <td>cust_e670ce607e4f6aa14935ece0</td>\n",
       "      <td>delivered</td>\n",
       "      <td>2023-12-10 05:13:58.249202</td>\n",
       "      <td>2023-12-19 09:13:58.249202</td>\n",
       "      <td>2023</td>\n",
       "      <td>12</td>\n",
       "      <td>4</td>\n",
       "      <td>Sunday</td>\n",
       "      <td>763.77</td>\n",
       "      <td>9</td>\n",
       "      <td>8+ days</td>\n",
       "    </tr>\n",
       "    <tr>\n",
       "      <th>8</th>\n",
       "      <td>ord_e60b1e267fd32d93c4d0745b</td>\n",
       "      <td>1</td>\n",
       "      <td>prod_139fc7c40b163ec81342741e</td>\n",
       "      <td>sell_bcb2c47f4631ff00586f7de0</td>\n",
       "      <td>361.54</td>\n",
       "      <td>54.65</td>\n",
       "      <td>cust_deec5ec61bd39869531896b3</td>\n",
       "      <td>delivered</td>\n",
       "      <td>2023-04-11 05:42:57.214593</td>\n",
       "      <td>2023-04-22 20:42:57.214593</td>\n",
       "      <td>2023</td>\n",
       "      <td>4</td>\n",
       "      <td>2</td>\n",
       "      <td>Tuesday</td>\n",
       "      <td>416.19</td>\n",
       "      <td>11</td>\n",
       "      <td>8+ days</td>\n",
       "    </tr>\n",
       "    <tr>\n",
       "      <th>9</th>\n",
       "      <td>ord_e60b1e267fd32d93c4d0745b</td>\n",
       "      <td>2</td>\n",
       "      <td>prod_8668b3ebccd7183bae97138a</td>\n",
       "      <td>sell_bc4ff6f9c9f971b8fc9bf8a3</td>\n",
       "      <td>25.59</td>\n",
       "      <td>2.57</td>\n",
       "      <td>cust_deec5ec61bd39869531896b3</td>\n",
       "      <td>delivered</td>\n",
       "      <td>2023-04-11 05:42:57.214593</td>\n",
       "      <td>2023-04-22 20:42:57.214593</td>\n",
       "      <td>2023</td>\n",
       "      <td>4</td>\n",
       "      <td>2</td>\n",
       "      <td>Tuesday</td>\n",
       "      <td>28.16</td>\n",
       "      <td>11</td>\n",
       "      <td>8+ days</td>\n",
       "    </tr>\n",
       "  </tbody>\n",
       "</table>\n",
       "</div>"
      ],
      "text/plain": [
       "                       order_id  order_item_id                     product_id  \\\n",
       "2  ord_5fa044951857e02fd1347b47              1  prod_9b6f1793388ae983f852d189   \n",
       "3  ord_5fa044951857e02fd1347b47              2  prod_c7b5997a4d0061a9f50e874c   \n",
       "7  ord_43b53981d951f855231d09ec              1  prod_496e129d773e9587e8ddc065   \n",
       "8  ord_e60b1e267fd32d93c4d0745b              1  prod_139fc7c40b163ec81342741e   \n",
       "9  ord_e60b1e267fd32d93c4d0745b              2  prod_8668b3ebccd7183bae97138a   \n",
       "\n",
       "                       seller_id   price  freight_value  \\\n",
       "2  sell_34212979d97b6d1a8409a01e  111.91           9.50   \n",
       "3  sell_4668fb88b81f8d834371c335  878.42          77.50   \n",
       "7  sell_6cfe47a34211c0b92f0fd126  749.83          13.94   \n",
       "8  sell_bcb2c47f4631ff00586f7de0  361.54          54.65   \n",
       "9  sell_bc4ff6f9c9f971b8fc9bf8a3   25.59           2.57   \n",
       "\n",
       "                     customer_id order_status   order_purchase_timestamp  \\\n",
       "2  cust_2d36e4b647be13c15df550af    delivered 2023-04-24 13:05:32.579655   \n",
       "3  cust_2d36e4b647be13c15df550af    delivered 2023-04-24 13:05:32.579655   \n",
       "7  cust_e670ce607e4f6aa14935ece0    delivered 2023-12-10 05:13:58.249202   \n",
       "8  cust_deec5ec61bd39869531896b3    delivered 2023-04-11 05:42:57.214593   \n",
       "9  cust_deec5ec61bd39869531896b3    delivered 2023-04-11 05:42:57.214593   \n",
       "\n",
       "  order_delivered_customer_date  year  month  quarter day_of_week  \\\n",
       "2    2023-05-01 02:05:32.579655  2023      4        2      Monday   \n",
       "3    2023-05-01 02:05:32.579655  2023      4        2      Monday   \n",
       "7    2023-12-19 09:13:58.249202  2023     12        4      Sunday   \n",
       "8    2023-04-22 20:42:57.214593  2023      4        2     Tuesday   \n",
       "9    2023-04-22 20:42:57.214593  2023      4        2     Tuesday   \n",
       "\n",
       "   total_item_value  delivery_days delivery_speed_category  \n",
       "2            121.41              6                4-7 days  \n",
       "3            955.92              6                4-7 days  \n",
       "7            763.77              9                 8+ days  \n",
       "8            416.19             11                 8+ days  \n",
       "9             28.16             11                 8+ days  "
      ]
     },
     "metadata": {},
     "output_type": "display_data"
    }
   ],
   "source": [
    "# Filter data based on configuration parameters\n",
    "analysis_data = filter_data_by_date_range(\n",
    "    df=sales_data,\n",
    "    start_year=ANALYSIS_YEAR,\n",
    "    end_year=ANALYSIS_YEAR,\n",
    "    start_month=START_MONTH,\n",
    "    end_month=END_MONTH\n",
    ")\n",
    "\n",
    "print(f\"Filtered dataset for analysis:\")\n",
    "print(f\"  Records: {len(analysis_data):,}\")\n",
    "print(f\"  Orders: {analysis_data['order_id'].nunique():,}\")\n",
    "print(f\"  Total Revenue: ${analysis_data['price'].sum():,.2f}\")\n",
    "\n",
    "# Show sample of processed data\n",
    "print(f\"\\nSample of analysis data:\")\n",
    "display(analysis_data.head())"
   ]
  },
  {
   "cell_type": "markdown",
   "metadata": {},
   "source": [
    "## 4. Revenue Performance Analysis\n",
    "\n",
    "Analyze revenue trends, growth rates, and order patterns for the configured time period."
   ]
  },
  {
   "cell_type": "code",
   "execution_count": 26,
   "metadata": {},
   "outputs": [
    {
     "name": "stdout",
     "output_type": "stream",
     "text": [
      "Revenue Performance Analysis - 2023\n",
      "==================================================\n",
      "Total Revenue: $3,360,294.74\n",
      "Total Orders: 4,635\n",
      "Average Order Value: $724.98\n",
      "\n",
      "Year-over-Year Growth vs 2022:\n",
      "  Revenue Growth: -2.46%\n",
      "  Orders Growth: -2.40%\n",
      "  AOV Growth: -0.06%\n",
      "\n",
      "Monthly Growth Statistics:\n",
      "  Average Monthly Growth: -0.39%\n",
      "  Best Performing Month: 5 (18.74%)\n",
      "  Worst Performing Month: 10 (-14.45%)\n"
     ]
    }
   ],
   "source": [
    "# Initialize business metrics calculator\n",
    "metrics_calc = BusinessMetricsCalculator(sales_data)\n",
    "visualizer = MetricsVisualizer()\n",
    "\n",
    "# Calculate revenue metrics\n",
    "revenue_metrics = metrics_calc.calculate_revenue_metrics(\n",
    "    current_year=ANALYSIS_YEAR,\n",
    "    comparison_year=COMPARISON_YEAR\n",
    ")\n",
    "\n",
    "# Calculate monthly growth trend\n",
    "monthly_growth = metrics_calc.calculate_monthly_growth_trend(ANALYSIS_YEAR)\n",
    "\n",
    "print(f\"Revenue Performance Analysis - {ANALYSIS_YEAR}\")\n",
    "print(\"=\"*50)\n",
    "print(f\"Total Revenue: ${revenue_metrics['current_revenue']:,.2f}\")\n",
    "print(f\"Total Orders: {revenue_metrics['current_orders']:,}\")\n",
    "print(f\"Average Order Value: ${revenue_metrics['current_avg_order_value']:.2f}\")\n",
    "\n",
    "if COMPARISON_YEAR:\n",
    "    print(f\"\\nYear-over-Year Growth vs {COMPARISON_YEAR}:\")\n",
    "    print(f\"  Revenue Growth: {revenue_metrics['revenue_growth_pct']:.2f}%\")\n",
    "    print(f\"  Orders Growth: {revenue_metrics['orders_growth_pct']:.2f}%\")\n",
    "    print(f\"  AOV Growth: {revenue_metrics['aov_growth_pct']:.2f}%\")\n",
    "\n",
    "print(f\"\\nMonthly Growth Statistics:\")\n",
    "print(f\"  Average Monthly Growth: {monthly_growth.mean():.2f}%\")\n",
    "print(f\"  Best Performing Month: {monthly_growth.idxmax()} ({monthly_growth.max():.2f}%)\")\n",
    "print(f\"  Worst Performing Month: {monthly_growth.idxmin()} ({monthly_growth.min():.2f}%)\")"
   ]
  },
  {
   "cell_type": "code",
   "execution_count": 27,
   "metadata": {},
   "outputs": [
    {
     "data": {
      "image/png": "[encoded data removed]",
      "text/plain": [
       "<Figure size 1200x600 with 1 Axes>"
      ]
     },
     "metadata": {},
     "output_type": "display_data"
    }
   ],
   "source": [
    "# Create monthly revenue trend visualization\n",
    "monthly_revenue = analysis_data.groupby('month')['price'].sum().reset_index()\n",
    "\n",
    "visualizer.plot_monthly_revenue_trend(\n",
    "    monthly_data=monthly_revenue,\n",
    "    year=ANALYSIS_YEAR,\n",
    "    title_suffix=\"(Delivered Orders Only)\"\n",
    ")"
   ]
  },
  {
   "cell_type": "code",
   "execution_count": 28,
   "metadata": {},
   "outputs": [
    {
     "name": "stdout",
     "output_type": "stream",
     "text": [
      "Month-over-Month Growth Rates - 2023:\n"
     ]
    },
    {
     "data": {
      "text/html": [
       "<div>\n",
       "<style scoped>\n",
       "    .dataframe tbody tr th:only-of-type {\n",
       "        vertical-align: middle;\n",
       "    }\n",
       "\n",
       "    .dataframe tbody tr th {\n",
       "        vertical-align: top;\n",
       "    }\n",
       "\n",
       "    .dataframe thead th {\n",
       "        text-align: right;\n",
       "    }\n",
       "</style>\n",
       "<table border=\"1\" class=\"dataframe\">\n",
       "  <thead>\n",
       "    <tr style=\"text-align: right;\">\n",
       "      <th></th>\n",
       "      <th>Month</th>\n",
       "      <th>Growth_Rate_Pct</th>\n",
       "    </tr>\n",
       "  </thead>\n",
       "  <tbody>\n",
       "    <tr>\n",
       "      <th>0</th>\n",
       "      <td>1</td>\n",
       "      <td>NaN</td>\n",
       "    </tr>\n",
       "    <tr>\n",
       "      <th>1</th>\n",
       "      <td>2</td>\n",
       "      <td>-2.84</td>\n",
       "    </tr>\n",
       "    <tr>\n",
       "      <th>2</th>\n",
       "      <td>3</td>\n",
       "      <td>3.20</td>\n",
       "    </tr>\n",
       "    <tr>\n",
       "      <th>3</th>\n",
       "      <td>4</td>\n",
       "      <td>-11.14</td>\n",
       "    </tr>\n",
       "    <tr>\n",
       "      <th>4</th>\n",
       "      <td>5</td>\n",
       "      <td>18.74</td>\n",
       "    </tr>\n",
       "    <tr>\n",
       "      <th>5</th>\n",
       "      <td>6</td>\n",
       "      <td>-4.06</td>\n",
       "    </tr>\n",
       "    <tr>\n",
       "      <th>6</th>\n",
       "      <td>7</td>\n",
       "      <td>2.45</td>\n",
       "    </tr>\n",
       "    <tr>\n",
       "      <th>7</th>\n",
       "      <td>8</td>\n",
       "      <td>-3.23</td>\n",
       "    </tr>\n",
       "    <tr>\n",
       "      <th>8</th>\n",
       "      <td>9</td>\n",
       "      <td>5.98</td>\n",
       "    </tr>\n",
       "    <tr>\n",
       "      <th>9</th>\n",
       "      <td>10</td>\n",
       "      <td>-14.45</td>\n",
       "    </tr>\n",
       "    <tr>\n",
       "      <th>10</th>\n",
       "      <td>11</td>\n",
       "      <td>-0.14</td>\n",
       "    </tr>\n",
       "    <tr>\n",
       "      <th>11</th>\n",
       "      <td>12</td>\n",
       "      <td>1.24</td>\n",
       "    </tr>\n",
       "  </tbody>\n",
       "</table>\n",
       "</div>"
      ],
      "text/plain": [
       "    Month  Growth_Rate_Pct\n",
       "0       1              NaN\n",
       "1       2            -2.84\n",
       "2       3             3.20\n",
       "3       4           -11.14\n",
       "4       5            18.74\n",
       "5       6            -4.06\n",
       "6       7             2.45\n",
       "7       8            -3.23\n",
       "8       9             5.98\n",
       "9      10           -14.45\n",
       "10     11            -0.14\n",
       "11     12             1.24"
      ]
     },
     "metadata": {},
     "output_type": "display_data"
    }
   ],
   "source": [
    "# Display monthly growth rates\n",
    "monthly_growth_df = pd.DataFrame({\n",
    "    'Month': monthly_growth.index,\n",
    "    'Growth_Rate_Pct': monthly_growth.values\n",
    "}).round(2)\n",
    "\n",
    "print(f\"Month-over-Month Growth Rates - {ANALYSIS_YEAR}:\")\n",
    "display(monthly_growth_df)"
   ]
  },
  {
   "cell_type": "markdown",
   "metadata": {},
   "source": [
    "## 5. Product Category Analysis\n",
    "\n",
    "Analyze product category performance to identify top-performing categories and revenue distribution."
   ]
  },
  {
   "cell_type": "code",
   "execution_count": 29,
   "metadata": {},
   "outputs": [
    {
     "name": "stdout",
     "output_type": "stream",
     "text": [
      "Product Category Performance - 2023\n",
      "==================================================\n",
      "Total Categories: 13\n",
      "\n",
      "Top 10 Categories by Revenue:\n"
     ]
    },
    {
     "data": {
      "text/html": [
       "<div>\n",
       "<style scoped>\n",
       "    .dataframe tbody tr th:only-of-type {\n",
       "        vertical-align: middle;\n",
       "    }\n",
       "\n",
       "    .dataframe tbody tr th {\n",
       "        vertical-align: top;\n",
       "    }\n",
       "\n",
       "    .dataframe thead th {\n",
       "        text-align: right;\n",
       "    }\n",
       "</style>\n",
       "<table border=\"1\" class=\"dataframe\">\n",
       "  <thead>\n",
       "    <tr style=\"text-align: right;\">\n",
       "      <th></th>\n",
       "      <th>product_category_name</th>\n",
       "      <th>total_revenue</th>\n",
       "      <th>avg_item_price</th>\n",
       "      <th>total_items</th>\n",
       "      <th>unique_orders</th>\n",
       "      <th>revenue_share_pct</th>\n",
       "    </tr>\n",
       "  </thead>\n",
       "  <tbody>\n",
       "    <tr>\n",
       "      <th>0</th>\n",
       "      <td>electronics</td>\n",
       "      <td>1.40e+06</td>\n",
       "      <td>1056.04</td>\n",
       "      <td>1327</td>\n",
       "      <td>1227</td>\n",
       "      <td>41.70</td>\n",
       "    </tr>\n",
       "    <tr>\n",
       "      <th>1</th>\n",
       "      <td>home_garden</td>\n",
       "      <td>8.63e+05</td>\n",
       "      <td>750.79</td>\n",
       "      <td>1149</td>\n",
       "      <td>1045</td>\n",
       "      <td>25.67</td>\n",
       "    </tr>\n",
       "    <tr>\n",
       "      <th>2</th>\n",
       "      <td>sports_outdoors</td>\n",
       "      <td>2.79e+05</td>\n",
       "      <td>406.48</td>\n",
       "      <td>686</td>\n",
       "      <td>645</td>\n",
       "      <td>8.30</td>\n",
       "    </tr>\n",
       "    <tr>\n",
       "      <th>3</th>\n",
       "      <td>automotive</td>\n",
       "      <td>2.48e+05</td>\n",
       "      <td>506.56</td>\n",
       "      <td>489</td>\n",
       "      <td>473</td>\n",
       "      <td>7.37</td>\n",
       "    </tr>\n",
       "    <tr>\n",
       "      <th>4</th>\n",
       "      <td>clothing_shoes_jewelry</td>\n",
       "      <td>2.33e+05</td>\n",
       "      <td>263.29</td>\n",
       "      <td>884</td>\n",
       "      <td>828</td>\n",
       "      <td>6.93</td>\n",
       "    </tr>\n",
       "    <tr>\n",
       "      <th>5</th>\n",
       "      <td>toys_games</td>\n",
       "      <td>7.02e+04</td>\n",
       "      <td>147.40</td>\n",
       "      <td>476</td>\n",
       "      <td>461</td>\n",
       "      <td>2.09</td>\n",
       "    </tr>\n",
       "    <tr>\n",
       "      <th>6</th>\n",
       "      <td>health_personal_care</td>\n",
       "      <td>6.54e+04</td>\n",
       "      <td>103.76</td>\n",
       "      <td>630</td>\n",
       "      <td>613</td>\n",
       "      <td>1.95</td>\n",
       "    </tr>\n",
       "    <tr>\n",
       "      <th>7</th>\n",
       "      <td>tools_home_improvement</td>\n",
       "      <td>5.43e+04</td>\n",
       "      <td>247.86</td>\n",
       "      <td>219</td>\n",
       "      <td>213</td>\n",
       "      <td>1.62</td>\n",
       "    </tr>\n",
       "    <tr>\n",
       "      <th>8</th>\n",
       "      <td>beauty_personal_care</td>\n",
       "      <td>4.92e+04</td>\n",
       "      <td>156.23</td>\n",
       "      <td>315</td>\n",
       "      <td>309</td>\n",
       "      <td>1.46</td>\n",
       "    </tr>\n",
       "    <tr>\n",
       "      <th>9</th>\n",
       "      <td>books_media</td>\n",
       "      <td>3.86e+04</td>\n",
       "      <td>53.18</td>\n",
       "      <td>725</td>\n",
       "      <td>687</td>\n",
       "      <td>1.15</td>\n",
       "    </tr>\n",
       "  </tbody>\n",
       "</table>\n",
       "</div>"
      ],
      "text/plain": [
       "    product_category_name  total_revenue  avg_item_price  total_items  \\\n",
       "0             electronics       1.40e+06         1056.04         1327   \n",
       "1             home_garden       8.63e+05          750.79         1149   \n",
       "2         sports_outdoors       2.79e+05          406.48          686   \n",
       "3              automotive       2.48e+05          506.56          489   \n",
       "4  clothing_shoes_jewelry       2.33e+05          263.29          884   \n",
       "5              toys_games       7.02e+04          147.40          476   \n",
       "6    health_personal_care       6.54e+04          103.76          630   \n",
       "7  tools_home_improvement       5.43e+04          247.86          219   \n",
       "8    beauty_personal_care       4.92e+04          156.23          315   \n",
       "9             books_media       3.86e+04           53.18          725   \n",
       "\n",
       "   unique_orders  revenue_share_pct  \n",
       "0           1227              41.70  \n",
       "1           1045              25.67  \n",
       "2            645               8.30  \n",
       "3            473               7.37  \n",
       "4            828               6.93  \n",
       "5            461               2.09  \n",
       "6            613               1.95  \n",
       "7            213               1.62  \n",
       "8            309               1.46  \n",
       "9            687               1.15  "
      ]
     },
     "metadata": {},
     "output_type": "display_data"
    }
   ],
   "source": [
    "# Calculate product category performance\n",
    "category_performance = metrics_calc.get_product_category_performance(\n",
    "    products_df=products,\n",
    "    year=ANALYSIS_YEAR\n",
    ")\n",
    "\n",
    "print(f\"Product Category Performance - {ANALYSIS_YEAR}\")\n",
    "print(\"=\"*50)\n",
    "print(f\"Total Categories: {len(category_performance)}\")\n",
    "print(f\"\\nTop 10 Categories by Revenue:\")\n",
    "display(category_performance.head(10))"
   ]
  },
  {
   "cell_type": "code",
   "execution_count": 30,
   "metadata": {},
   "outputs": [
    {
     "data": {
      "image/png": "[encoded data removed]",
      "text/plain": [
       "<Figure size 1200x800 with 1 Axes>"
      ]
     },
     "metadata": {},
     "output_type": "display_data"
    }
   ],
   "source": [
    "# Visualize category performance\n",
    "visualizer.plot_category_performance(\n",
    "    category_data=category_performance,\n",
    "    year=ANALYSIS_YEAR\n",
    ")"
   ]
  },
  {
   "cell_type": "code",
   "execution_count": 31,
   "metadata": {},
   "outputs": [
    {
     "name": "stdout",
     "output_type": "stream",
     "text": [
      "Category Concentration Analysis:\n",
      "  Total Product Categories: 13\n",
      "  Top 5 Categories Revenue Share: 90.0%\n",
      "  Top 10 Categories Revenue Share: 98.2%\n",
      "  Market Concentration: High\n"
     ]
    }
   ],
   "source": [
    "# Category concentration analysis\n",
    "total_categories = len(category_performance)\n",
    "top5_revenue_share = category_performance.head(5)['revenue_share_pct'].sum()\n",
    "top10_revenue_share = category_performance.head(10)['revenue_share_pct'].sum()\n",
    "\n",
    "print(f\"Category Concentration Analysis:\")\n",
    "print(f\"  Total Product Categories: {total_categories}\")\n",
    "print(f\"  Top 5 Categories Revenue Share: {top5_revenue_share:.1f}%\")\n",
    "print(f\"  Top 10 Categories Revenue Share: {top10_revenue_share:.1f}%\")\n",
    "print(f\"  Market Concentration: {'High' if top5_revenue_share > 60 else 'Moderate' if top5_revenue_share > 40 else 'Low'}\")"
   ]
  },
  {
   "cell_type": "markdown",
   "metadata": {},
   "source": [
    "## 6. Geographic Performance Analysis\n",
    "\n",
    "Analyze sales performance across different states to identify geographic patterns and opportunities."
   ]
  },
  {
   "cell_type": "code",
   "execution_count": 32,
   "metadata": {},
   "outputs": [
    {
     "name": "stdout",
     "output_type": "stream",
     "text": [
      "Geographic Performance Analysis - 2023\n",
      "==================================================\n",
      "Total States: 20\n",
      "\n",
      "Top 10 States by Revenue:\n"
     ]
    },
    {
     "data": {
      "text/html": [
       "<div>\n",
       "<style scoped>\n",
       "    .dataframe tbody tr th:only-of-type {\n",
       "        vertical-align: middle;\n",
       "    }\n",
       "\n",
       "    .dataframe tbody tr th {\n",
       "        vertical-align: top;\n",
       "    }\n",
       "\n",
       "    .dataframe thead th {\n",
       "        text-align: right;\n",
       "    }\n",
       "</style>\n",
       "<table border=\"1\" class=\"dataframe\">\n",
       "  <thead>\n",
       "    <tr style=\"text-align: right;\">\n",
       "      <th></th>\n",
       "      <th>customer_state</th>\n",
       "      <th>total_revenue</th>\n",
       "      <th>avg_order_value</th>\n",
       "      <th>total_items</th>\n",
       "      <th>unique_orders</th>\n",
       "      <th>unique_customers</th>\n",
       "    </tr>\n",
       "  </thead>\n",
       "  <tbody>\n",
       "    <tr>\n",
       "      <th>0</th>\n",
       "      <td>CA</td>\n",
       "      <td>537880.74</td>\n",
       "      <td>438.73</td>\n",
       "      <td>1226</td>\n",
       "      <td>769</td>\n",
       "      <td>582</td>\n",
       "    </tr>\n",
       "    <tr>\n",
       "      <th>1</th>\n",
       "      <td>TX</td>\n",
       "      <td>403303.49</td>\n",
       "      <td>464.10</td>\n",
       "      <td>869</td>\n",
       "      <td>561</td>\n",
       "      <td>438</td>\n",
       "    </tr>\n",
       "    <tr>\n",
       "      <th>2</th>\n",
       "      <td>FL</td>\n",
       "      <td>310195.84</td>\n",
       "      <td>438.75</td>\n",
       "      <td>707</td>\n",
       "      <td>431</td>\n",
       "      <td>332</td>\n",
       "    </tr>\n",
       "    <tr>\n",
       "      <th>3</th>\n",
       "      <td>NY</td>\n",
       "      <td>253111.85</td>\n",
       "      <td>400.49</td>\n",
       "      <td>632</td>\n",
       "      <td>384</td>\n",
       "      <td>286</td>\n",
       "    </tr>\n",
       "    <tr>\n",
       "      <th>4</th>\n",
       "      <td>IL</td>\n",
       "      <td>185930.89</td>\n",
       "      <td>460.22</td>\n",
       "      <td>404</td>\n",
       "      <td>260</td>\n",
       "      <td>190</td>\n",
       "    </tr>\n",
       "    <tr>\n",
       "      <th>5</th>\n",
       "      <td>PA</td>\n",
       "      <td>173260.68</td>\n",
       "      <td>493.62</td>\n",
       "      <td>351</td>\n",
       "      <td>225</td>\n",
       "      <td>172</td>\n",
       "    </tr>\n",
       "    <tr>\n",
       "      <th>6</th>\n",
       "      <td>OH</td>\n",
       "      <td>157619.72</td>\n",
       "      <td>464.95</td>\n",
       "      <td>339</td>\n",
       "      <td>200</td>\n",
       "      <td>151</td>\n",
       "    </tr>\n",
       "    <tr>\n",
       "      <th>7</th>\n",
       "      <td>GA</td>\n",
       "      <td>146414.65</td>\n",
       "      <td>478.48</td>\n",
       "      <td>306</td>\n",
       "      <td>190</td>\n",
       "      <td>145</td>\n",
       "    </tr>\n",
       "    <tr>\n",
       "      <th>8</th>\n",
       "      <td>MI</td>\n",
       "      <td>132325.60</td>\n",
       "      <td>405.91</td>\n",
       "      <td>326</td>\n",
       "      <td>210</td>\n",
       "      <td>164</td>\n",
       "    </tr>\n",
       "    <tr>\n",
       "      <th>9</th>\n",
       "      <td>NC</td>\n",
       "      <td>128314.74</td>\n",
       "      <td>444.00</td>\n",
       "      <td>289</td>\n",
       "      <td>177</td>\n",
       "      <td>135</td>\n",
       "    </tr>\n",
       "  </tbody>\n",
       "</table>\n",
       "</div>"
      ],
      "text/plain": [
       "  customer_state  total_revenue  avg_order_value  total_items  unique_orders  \\\n",
       "0             CA      537880.74           438.73         1226            769   \n",
       "1             TX      403303.49           464.10          869            561   \n",
       "2             FL      310195.84           438.75          707            431   \n",
       "3             NY      253111.85           400.49          632            384   \n",
       "4             IL      185930.89           460.22          404            260   \n",
       "5             PA      173260.68           493.62          351            225   \n",
       "6             OH      157619.72           464.95          339            200   \n",
       "7             GA      146414.65           478.48          306            190   \n",
       "8             MI      132325.60           405.91          326            210   \n",
       "9             NC      128314.74           444.00          289            177   \n",
       "\n",
       "   unique_customers  \n",
       "0               582  \n",
       "1               438  \n",
       "2               332  \n",
       "3               286  \n",
       "4               190  \n",
       "5               172  \n",
       "6               151  \n",
       "7               145  \n",
       "8               164  \n",
       "9               135  "
      ]
     },
     "metadata": {},
     "output_type": "display_data"
    }
   ],
   "source": [
    "# Calculate geographic performance\n",
    "geographic_performance = metrics_calc.get_geographic_performance(\n",
    "    orders_df=orders_processed,\n",
    "    customers_df=customers,\n",
    "    year=ANALYSIS_YEAR\n",
    ")\n",
    "\n",
    "print(f\"Geographic Performance Analysis - {ANALYSIS_YEAR}\")\n",
    "print(\"=\"*50)\n",
    "print(f\"Total States: {len(geographic_performance)}\")\n",
    "print(f\"\\nTop 10 States by Revenue:\")\n",
    "display(geographic_performance.head(10))"
   ]
  },
  {
   "cell_type": "code",
   "execution_count": 33,
   "metadata": {},
   "outputs": [
    {
     "data": {
      "application/vnd.plotly.v1+json": {
       "config": {
        "plotlyServerURL": "https://plot.ly"
       },
       "data": [
        {
         "coloraxis": "coloraxis",
         "geo": "geo",
         "hovertemplate": "customer_state=%{location}<br>Total Revenue ($)=%{z}<extra></extra>",
         "locationmode": "USA-states",
         "locations": [
          "CA",
          "TX",
          "FL",
          "NY",
          "IL",
          "PA",
          "OH",
          "GA",
          "MI",
          "NC",
          "NJ",
          "VA",
          "MA",
          "AZ",
          "WA",
          "MD",
          "IN",
          "MO",
          "WI",
          "TN"
         ],
         "name": "",
         "type": "choropleth",
         "z": {
          "bdata": "rkfhejFqIEFcj8L1nZ0YQcP1KFzP7hJBzczMzL7lDkHsUbgeV7IGQQrXo3BlJgVBKVyPwp09A0EzMzMzdd8BQc3MzMwsJwBBcT0K16tT/0Bcj8L12Bz/QHE9CtePsflASOF6FHIs+UBmZmZm0nD4QIXrUbiqOfdAFK5H4TYp9UAUrkfh2hD1QDMzMzOzr/JA9ihcjx6E8kDsUbgezXLyQA==",
          "dtype": "f8"
         }
        }
       ],
       "layout": {
        "coloraxis": {
         "colorbar": {
          "title": {
           "text": "Total Revenue ($)"
          }
         },
         "colorscale": [
          [
           0,
           "rgb(255,245,240)"
          ],
          [
           0.125,
           "rgb(254,224,210)"
          ],
          [
           0.25,
           "rgb(252,187,161)"
          ],
          [
           0.375,
           "rgb(252,146,114)"
          ],
          [
           0.5,
           "rgb(251,106,74)"
          ],
          [
           0.625,
           "rgb(239,59,44)"
          ],
          [
           0.75,
           "rgb(203,24,29)"
          ],
          [
           0.875,
           "rgb(165,15,21)"
          ],
          [
           1,
           "rgb(103,0,13)"
          ]
         ]
        },
        "geo": {
         "bgcolor": "rgba(0,0,0,0)",
         "center": {},
         "domain": {
          "x": [
           0,
           1
          ],
          "y": [
           0,
           1
          ]
         },
         "scope": "usa"
        },
        "legend": {
         "tracegroupgap": 0
        },
        "template": {
         "data": {
          "bar": [
           {
            "error_x": {
             "color": "#2a3f5f"
            },
            "error_y": {
             "color": "#2a3f5f"
            },
            "marker": {
             "line": {
              "color": "#E5ECF6",
              "width": 0.5
             },
             "pattern": {
              "fillmode": "overlay",
              "size": 10,
              "solidity": 0.2
             }
            },
            "type": "bar"
           }
          ],
          "barpolar": [
           {
            "marker": {
             "line": {
              "color": "#E5ECF6",
              "width": 0.5
             },
             "pattern": {
              "fillmode": "overlay",
              "size": 10,
              "solidity": 0.2
             }
            },
            "type": "barpolar"
           }
          ],
          "carpet": [
           {
            "aaxis": {
             "endlinecolor": "#2a3f5f",
             "gridcolor": "white",
             "linecolor": "white",
             "minorgridcolor": "white",
             "startlinecolor": "#2a3f5f"
            },
            "baxis": {
             "endlinecolor": "#2a3f5f",
             "gridcolor": "white",
             "linecolor": "white",
             "minorgridcolor": "white",
             "startlinecolor": "#2a3f5f"
            },
            "type": "carpet"
           }
          ],
          "choropleth": [
           {
            "colorbar": {
             "outlinewidth": 0,
             "ticks": ""
            },
            "type": "choropleth"
           }
          ],
          "contour": [
           {
            "colorbar": {
             "outlinewidth": 0,
             "ticks": ""
            },
            "colorscale": [
             [
              0,
              "#0d0887"
             ],
             [
              0.1111111111111111,
              "#46039f"
             ],
             [
              0.2222222222222222,
              "#7201a8"
             ],
             [
              0.3333333333333333,
              "#9c179e"
             ],
             [
              0.4444444444444444,
              "#bd3786"
             ],
             [
              0.5555555555555556,
              "#d8576b"
             ],
             [
              0.6666666666666666,
              "#ed7953"
             ],
             [
              0.7777777777777778,
              "#fb9f3a"
             ],
             [
              0.8888888888888888,
              "#fdca26"
             ],
             [
              1,
              "#f0f921"
             ]
            ],
            "type": "contour"
           }
          ],
          "contourcarpet": [
           {
            "colorbar": {
             "outlinewidth": 0,
             "ticks": ""
            },
            "type": "contourcarpet"
           }
          ],
          "heatmap": [
           {
            "colorbar": {
             "outlinewidth": 0,
             "ticks": ""
            },
            "colorscale": [
             [
              0,
              "#0d0887"
             ],
             [
              0.1111111111111111,
              "#46039f"
             ],
             [
              0.2222222222222222,
              "#7201a8"
             ],
             [
              0.3333333333333333,
              "#9c179e"
             ],
             [
              0.4444444444444444,
              "#bd3786"
             ],
             [
              0.5555555555555556,
              "#d8576b"
             ],
             [
              0.6666666666666666,
              "#ed7953"
             ],
             [
              0.7777777777777778,
              "#fb9f3a"
             ],
             [
              0.8888888888888888,
              "#fdca26"
             ],
             [
              1,
              "#f0f921"
             ]
            ],
            "type": "heatmap"
           }
          ],
          "histogram": [
           {
            "marker": {
             "pattern": {
              "fillmode": "overlay",
              "size": 10,
              "solidity": 0.2
             }
            },
            "type": "histogram"
           }
          ],
          "histogram2d": [
           {
            "colorbar": {
             "outlinewidth": 0,
             "ticks": ""
            },
            "colorscale": [
             [
              0,
              "#0d0887"
             ],
             [
              0.1111111111111111,
              "#46039f"
             ],
             [
              0.2222222222222222,
              "#7201a8"
             ],
             [
              0.3333333333333333,
              "#9c179e"
             ],
             [
              0.4444444444444444,
              "#bd3786"
             ],
             [
              0.5555555555555556,
              "#d8576b"
             ],
             [
              0.6666666666666666,
              "#ed7953"
             ],
             [
              0.7777777777777778,
              "#fb9f3a"
             ],
             [
              0.8888888888888888,
              "#fdca26"
             ],
             [
              1,
              "#f0f921"
             ]
            ],
            "type": "histogram2d"
           }
          ],
          "histogram2dcontour": [
           {
            "colorbar": {
             "outlinewidth": 0,
             "ticks": ""
            },
            "colorscale": [
             [
              0,
              "#0d0887"
             ],
             [
              0.1111111111111111,
              "#46039f"
             ],
             [
              0.2222222222222222,
              "#7201a8"
             ],
             [
              0.3333333333333333,
              "#9c179e"
             ],
             [
              0.4444444444444444,
              "#bd3786"
             ],
             [
              0.5555555555555556,
              "#d8576b"
             ],
             [
              0.6666666666666666,
              "#ed7953"
             ],
             [
              0.7777777777777778,
              "#fb9f3a"
             ],
             [
              0.8888888888888888,
              "#fdca26"
             ],
             [
              1,
              "#f0f921"
             ]
            ],
            "type": "histogram2dcontour"
           }
          ],
          "mesh3d": [
           {
            "colorbar": {
             "outlinewidth": 0,
             "ticks": ""
            },
            "type": "mesh3d"
           }
          ],
          "parcoords": [
           {
            "line": {
             "colorbar": {
              "outlinewidth": 0,
              "ticks": ""
             }
            },
            "type": "parcoords"
           }
          ],
          "pie": [
           {
            "automargin": true,
            "type": "pie"
           }
          ],
          "scatter": [
           {
            "fillpattern": {
             "fillmode": "overlay",
             "size": 10,
             "solidity": 0.2
            },
            "type": "scatter"
           }
          ],
          "scatter3d": [
           {
            "line": {
             "colorbar": {
              "outlinewidth": 0,
              "ticks": ""
             }
            },
            "marker": {
             "colorbar": {
              "outlinewidth": 0,
              "ticks": ""
             }
            },
            "type": "scatter3d"
           }
          ],
          "scattercarpet": [
           {
            "marker": {
             "colorbar": {
              "outlinewidth": 0,
              "ticks": ""
             }
            },
            "type": "scattercarpet"
           }
          ],
          "scattergeo": [
           {
            "marker": {
             "colorbar": {
              "outlinewidth": 0,
              "ticks": ""
             }
            },
            "type": "scattergeo"
           }
          ],
          "scattergl": [
           {
            "marker": {
             "colorbar": {
              "outlinewidth": 0,
              "ticks": ""
             }
            },
            "type": "scattergl"
           }
          ],
          "scattermap": [
           {
            "marker": {
             "colorbar": {
              "outlinewidth": 0,
              "ticks": ""
             }
            },
            "type": "scattermap"
           }
          ],
          "scattermapbox": [
           {
            "marker": {
             "colorbar": {
              "outlinewidth": 0,
              "ticks": ""
             }
            },
            "type": "scattermapbox"
           }
          ],
          "scatterpolar": [
           {
            "marker": {
             "colorbar": {
              "outlinewidth": 0,
              "ticks": ""
             }
            },
            "type": "scatterpolar"
           }
          ],
          "scatterpolargl": [
           {
            "marker": {
             "colorbar": {
              "outlinewidth": 0,
              "ticks": ""
             }
            },
            "type": "scatterpolargl"
           }
          ],
          "scatterternary": [
           {
            "marker": {
             "colorbar": {
              "outlinewidth": 0,
              "ticks": ""
             }
            },
            "type": "scatterternary"
           }
          ],
          "surface": [
           {
            "colorbar": {
             "outlinewidth": 0,
             "ticks": ""
            },
            "colorscale": [
             [
              0,
              "#0d0887"
             ],
             [
              0.1111111111111111,
              "#46039f"
             ],
             [
              0.2222222222222222,
              "#7201a8"
             ],
             [
              0.3333333333333333,
              "#9c179e"
             ],
             [
              0.4444444444444444,
              "#bd3786"
             ],
             [
              0.5555555555555556,
              "#d8576b"
             ],
             [
              0.6666666666666666,
              "#ed7953"
             ],
             [
              0.7777777777777778,
              "#fb9f3a"
             ],
             [
              0.8888888888888888,
              "#fdca26"
             ],
             [
              1,
              "#f0f921"
             ]
            ],
            "type": "surface"
           }
          ],
          "table": [
           {
            "cells": {
             "fill": {
              "color": "#EBF0F8"
             },
             "line": {
              "color": "white"
             }
            },
            "header": {
             "fill": {
              "color": "#C8D4E3"
             },
             "line": {
              "color": "white"
             }
            },
            "type": "table"
           }
          ]
         },
         "layout": {
          "annotationdefaults": {
           "arrowcolor": "#2a3f5f",
           "arrowhead": 0,
           "arrowwidth": 1
          },
          "autotypenumbers": "strict",
          "coloraxis": {
           "colorbar": {
            "outlinewidth": 0,
            "ticks": ""
           }
          },
          "colorscale": {
           "diverging": [
            [
             0,
             "#8e0152"
            ],
            [
             0.1,
             "#c51b7d"
            ],
            [
             0.2,
             "#de77ae"
            ],
            [
             0.3,
             "#f1b6da"
            ],
            [
             0.4,
             "#fde0ef"
            ],
            [
             0.5,
             "#f7f7f7"
            ],
            [
             0.6,
             "#e6f5d0"
            ],
            [
             0.7,
             "#b8e186"
            ],
            [
             0.8,
             "#7fbc41"
            ],
            [
             0.9,
             "#4d9221"
            ],
            [
             1,
             "#276419"
            ]
           ],
           "sequential": [
            [
             0,
             "#0d0887"
            ],
            [
             0.1111111111111111,
             "#46039f"
            ],
            [
             0.2222222222222222,
             "#7201a8"
            ],
            [
             0.3333333333333333,
             "#9c179e"
            ],
            [
             0.4444444444444444,
             "#bd3786"
            ],
            [
             0.5555555555555556,
             "#d8576b"
            ],
            [
             0.6666666666666666,
             "#ed7953"
            ],
            [
             0.7777777777777778,
             "#fb9f3a"
            ],
            [
             0.8888888888888888,
             "#fdca26"
            ],
            [
             1,
             "#f0f921"
            ]
           ],
           "sequentialminus": [
            [
             0,
             "#0d0887"
            ],
            [
             0.1111111111111111,
             "#46039f"
            ],
            [
             0.2222222222222222,
             "#7201a8"
            ],
            [
             0.3333333333333333,
             "#9c179e"
            ],
            [
             0.4444444444444444,
             "#bd3786"
            ],
            [
             0.5555555555555556,
             "#d8576b"
            ],
            [
             0.6666666666666666,
             "#ed7953"
            ],
            [
             0.7777777777777778,
             "#fb9f3a"
            ],
            [
             0.8888888888888888,
             "#fdca26"
            ],
            [
             1,
             "#f0f921"
            ]
           ]
          },
          "colorway": [
           "#636efa",
           "#EF553B",
           "#00cc96",
           "#ab63fa",
           "#FFA15A",
           "#19d3f3",
           "#FF6692",
           "#B6E880",
           "#FF97FF",
           "#FECB52"
          ],
          "font": {
           "color": "#2a3f5f"
          },
          "geo": {
           "bgcolor": "white",
           "lakecolor": "white",
           "landcolor": "#E5ECF6",
           "showlakes": true,
           "showland": true,
           "subunitcolor": "white"
          },
          "hoverlabel": {
           "align": "left"
          },
          "hovermode": "closest",
          "mapbox": {
           "style": "light"
          },
          "paper_bgcolor": "white",
          "plot_bgcolor": "#E5ECF6",
          "polar": {
           "angularaxis": {
            "gridcolor": "white",
            "linecolor": "white",
            "ticks": ""
           },
           "bgcolor": "#E5ECF6",
           "radialaxis": {
            "gridcolor": "white",
            "linecolor": "white",
            "ticks": ""
           }
          },
          "scene": {
           "xaxis": {
            "backgroundcolor": "#E5ECF6",
            "gridcolor": "white",
            "gridwidth": 2,
            "linecolor": "white",
            "showbackground": true,
            "ticks": "",
            "zerolinecolor": "white"
           },
           "yaxis": {
            "backgroundcolor": "#E5ECF6",
            "gridcolor": "white",
            "gridwidth": 2,
            "linecolor": "white",
            "showbackground": true,
            "ticks": "",
            "zerolinecolor": "white"
           },
           "zaxis": {
            "backgroundcolor": "#E5ECF6",
            "gridcolor": "white",
            "gridwidth": 2,
            "linecolor": "white",
            "showbackground": true,
            "ticks": "",
            "zerolinecolor": "white"
           }
          },
          "shapedefaults": {
           "line": {
            "color": "#2a3f5f"
           }
          },
          "ternary": {
           "aaxis": {
            "gridcolor": "white",
            "linecolor": "white",
            "ticks": ""
           },
           "baxis": {
            "gridcolor": "white",
            "linecolor": "white",
            "ticks": ""
           },
           "bgcolor": "#E5ECF6",
           "caxis": {
            "gridcolor": "white",
            "linecolor": "white",
            "ticks": ""
           }
          },
          "title": {
           "x": 0.05
          },
          "xaxis": {
           "automargin": true,
           "gridcolor": "white",
           "linecolor": "white",
           "ticks": "",
           "title": {
            "standoff": 15
           },
           "zerolinecolor": "white",
           "zerolinewidth": 2
          },
          "yaxis": {
           "automargin": true,
           "gridcolor": "white",
           "linecolor": "white",
           "ticks": "",
           "title": {
            "standoff": 15
           },
           "zerolinecolor": "white",
           "zerolinewidth": 2
          }
         }
        },
        "title": {
         "font": {
          "size": 16
         },
         "text": "Revenue by State - 2023"
        }
       }
      }
     },
     "metadata": {},
     "output_type": "display_data"
    }
   ],
   "source": [
    "# Create geographic visualization\n",
    "visualizer.plot_geographic_choropleth(\n",
    "    geographic_data=geographic_performance,\n",
    "    year=ANALYSIS_YEAR\n",
    ")"
   ]
  },
  {
   "cell_type": "code",
   "execution_count": 34,
   "metadata": {},
   "outputs": [
    {
     "name": "stdout",
     "output_type": "stream",
     "text": [
      "Geographic Concentration Analysis:\n",
      "  Total States with Sales: 20\n",
      "  Top 5 States Revenue Share: 50.3%\n",
      "\n",
      "Top 5 States:\n",
      "  CA: $537,881 (16.0%)\n",
      "  TX: $403,303 (12.0%)\n",
      "  FL: $310,196 (9.2%)\n",
      "  NY: $253,112 (7.5%)\n",
      "  IL: $185,931 (5.5%)\n"
     ]
    }
   ],
   "source": [
    "# Geographic concentration analysis\n",
    "total_revenue = geographic_performance['total_revenue'].sum()\n",
    "top5_states_revenue = geographic_performance.head(5)['total_revenue'].sum()\n",
    "top5_states_share = (top5_states_revenue / total_revenue) * 100\n",
    "\n",
    "print(f\"Geographic Concentration Analysis:\")\n",
    "print(f\"  Total States with Sales: {len(geographic_performance)}\")\n",
    "print(f\"  Top 5 States Revenue Share: {top5_states_share:.1f}%\")\n",
    "print(f\"\\nTop 5 States:\")\n",
    "for i, row in geographic_performance.head(5).iterrows():\n",
    "    share = (row['total_revenue'] / total_revenue) * 100\n",
    "    print(f\"  {row['customer_state']}: ${row['total_revenue']:,.0f} ({share:.1f}%)\")"
   ]
  },
  {
   "cell_type": "markdown",
   "metadata": {},
   "source": [
    "## 7. Customer Experience Analysis\n",
    "\n",
    "Analyze customer satisfaction through delivery performance and review scores."
   ]
  },
  {
   "cell_type": "code",
   "execution_count": 35,
   "metadata": {},
   "outputs": [
    {
     "name": "stdout",
     "output_type": "stream",
     "text": [
      "Customer Experience Analysis - 2023\n",
      "==================================================\n",
      "Average Delivery Time: 8.0 days\n",
      "Median Delivery Time: 8.0 days\n",
      "Average Review Score: 4.10/5\n",
      "\n",
      "Delivery Speed Distribution:\n",
      "  8+ days: 55.6%\n",
      "  4-7 days: 37.2%\n",
      "  1-3 days: 7.2%\n",
      "\n",
      "Average Review Score by Delivery Speed:\n",
      "  1-3 days: 4.19/5\n",
      "  4-7 days: 4.08/5\n",
      "  8+ days: 4.11/5\n"
     ]
    }
   ],
   "source": [
    "# Calculate customer experience metrics\n",
    "experience_metrics = metrics_calc.calculate_customer_experience_metrics(\n",
    "    reviews_df=reviews,\n",
    "    year=ANALYSIS_YEAR\n",
    ")\n",
    "\n",
    "print(f\"Customer Experience Analysis - {ANALYSIS_YEAR}\")\n",
    "print(\"=\"*50)\n",
    "print(f\"Average Delivery Time: {experience_metrics['avg_delivery_days']:.1f} days\")\n",
    "print(f\"Median Delivery Time: {experience_metrics['median_delivery_days']:.1f} days\")\n",
    "print(f\"Average Review Score: {experience_metrics['avg_review_score']:.2f}/5\")\n",
    "\n",
    "print(f\"\\nDelivery Speed Distribution:\")\n",
    "for speed, pct in experience_metrics['delivery_speed_distribution'].items():\n",
    "    print(f\"  {speed}: {pct:.1%}\")\n",
    "\n",
    "print(f\"\\nAverage Review Score by Delivery Speed:\")\n",
    "for speed, score in experience_metrics['avg_review_by_delivery_speed'].items():\n",
    "    print(f\"  {speed}: {score:.2f}/5\")"
   ]
  },
  {
   "cell_type": "code",
   "execution_count": 36,
   "metadata": {},
   "outputs": [
    {
     "data": {
      "image/png": "[encoded data removed]",
      "text/plain": [
       "<Figure size 1000x600 with 1 Axes>"
      ]
     },
     "metadata": {},
     "output_type": "display_data"
    }
   ],
   "source": [
    "# Visualize review score distribution\n",
    "review_distribution = pd.Series(experience_metrics['review_score_distribution'])\n",
    "\n",
    "visualizer.plot_review_score_distribution(\n",
    "    review_data=review_distribution,\n",
    "    year=ANALYSIS_YEAR\n",
    ")"
   ]
  },
  {
   "cell_type": "code",
   "execution_count": 37,
   "metadata": {},
   "outputs": [
    {
     "name": "stdout",
     "output_type": "stream",
     "text": [
      "Order Status Distribution - 2023:\n",
      "  Delivered: 93.6%\n",
      "  Shipped: 3.2%\n",
      "  Canceled: 1.3%\n",
      "  Processing: 1.2%\n",
      "  Pending: 0.5%\n",
      "  Returned: 0.2%\n",
      "\n",
      "Key Operational Metrics:\n",
      "  Delivery Success Rate: 93.6%\n",
      "  Cancellation Rate: 1.3%\n"
     ]
    }
   ],
   "source": [
    "# Order status distribution analysis\n",
    "order_status_dist = metrics_calc.get_order_status_distribution(\n",
    "    orders_df=orders_processed,\n",
    "    year=ANALYSIS_YEAR\n",
    ")\n",
    "\n",
    "print(f\"Order Status Distribution - {ANALYSIS_YEAR}:\")\n",
    "for status, pct in order_status_dist.items():\n",
    "    print(f\"  {str(status).title()}: {pct:.1f}%\")\n",
    "\n",
    "# Calculate key operational metrics\n",
    "delivery_success_rate = order_status_dist.get('delivered', 0)\n",
    "cancellation_rate = order_status_dist.get('canceled', 0)\n",
    "\n",
    "print(f\"\\nKey Operational Metrics:\")\n",
    "print(f\"  Delivery Success Rate: {delivery_success_rate:.1f}%\")\n",
    "print(f\"  Cancellation Rate: {cancellation_rate:.1f}%\")"
   ]
  },
  {
   "cell_type": "markdown",
   "metadata": {},
   "source": [
    "## 8. Key Insights & Summary\n",
    "\n",
    "Summary of key findings and business insights from the analysis."
   ]
  },
  {
   "cell_type": "code",
   "execution_count": 38,
   "metadata": {},
   "outputs": [
    {
     "name": "stdout",
     "output_type": "stream",
     "text": [
      "============================================================\n",
      "BUSINESS METRICS SUMMARY - 2023\n",
      "============================================================\n",
      "\n",
      "REVENUE PERFORMANCE:\n",
      "  Total Revenue: $3,360,294.74\n",
      "  Total Orders: 4,635\n",
      "  Average Order Value: $724.98\n",
      "  Revenue Growth vs 2022: -2.46%\n",
      "  Orders Growth vs 2022: -2.40%\n",
      "  AOV Growth vs 2022: -0.06%\n",
      "\n",
      "GROWTH TRENDS:\n",
      "  Average Monthly Growth: -0.39%\n",
      "  Best Month: 5 (18.74%)\n",
      "  Worst Month: 10 (-14.45%)\n",
      "\n",
      "CUSTOMER EXPERIENCE:\n",
      "  Average Delivery Time: 8.0 days\n",
      "  Average Review Score: 4.10/5\n",
      "  Review Scores by Delivery Speed:\n",
      "    1-3 days: 4.19/5\n",
      "    4-7 days: 4.08/5\n",
      "    8+ days: 4.11/5\n",
      "\n",
      "============================================================\n"
     ]
    }
   ],
   "source": [
    "# Print comprehensive metrics summary\n",
    "print_metrics_summary(\n",
    "    revenue_metrics=revenue_metrics,\n",
    "    monthly_growth=monthly_growth,\n",
    "    experience_metrics=experience_metrics,\n",
    "    year=ANALYSIS_YEAR\n",
    ")"
   ]
  },
  {
   "cell_type": "markdown",
   "metadata": {},
   "source": [
    "### Key Business Insights\n",
    "\n",
    "Based on the analysis above, here are the key findings:\n",
    "\n",
    "#### Revenue Performance\n",
    "- **Revenue Trend:** The business shows [positive/negative/stable] year-over-year growth\n",
    "- **Seasonality:** Monthly performance indicates [seasonal patterns]\n",
    "- **Order Value:** Average order value trends suggest [customer spending behavior]\n",
    "\n",
    "#### Product Performance\n",
    "- **Category Leaders:** Top performing categories drive the majority of revenue\n",
    "- **Market Concentration:** The business has [high/moderate/low] category concentration\n",
    "- **Growth Opportunities:** Underperforming categories may present expansion opportunities\n",
    "\n",
    "#### Geographic Distribution\n",
    "- **Market Concentration:** Revenue is [evenly/unevenly] distributed across states\n",
    "- **Top Markets:** Key states drive significant portion of total revenue\n",
    "- **Expansion Opportunities:** Underperforming regions may present growth potential\n",
    "\n",
    "#### Customer Experience\n",
    "- **Delivery Performance:** Average delivery time of [X] days impacts customer satisfaction\n",
    "- **Satisfaction Levels:** Customer review scores indicate [satisfaction level]\n",
    "- **Service Quality:** Correlation between delivery speed and satisfaction suggests [operational insights]\n",
    "\n",
    "### Recommendations\n",
    "\n",
    "1. **Revenue Growth:** Focus on [specific strategies based on trends]\n",
    "2. **Product Strategy:** Optimize category portfolio and pricing\n",
    "3. **Geographic Expansion:** Target underperforming but promising markets\n",
    "4. **Operational Excellence:** Improve delivery times to enhance customer satisfaction\n",
    "5. **Customer Retention:** Leverage high satisfaction scores to drive repeat purchases\n",
    "\n",
    "---\n",
    "\n",
    "*Analysis completed using configurable framework. Modify configuration parameters at the top of this notebook to analyze different time periods or segments.*"
   ]
  }
 ],
 "metadata": {
  "kernelspec": {
   "display_name": ".venv",
   "language": "python",
   "name": "python3"
  },
  "language_info": {
   "codemirror_mode": {
    "name": "ipython",
    "version": 3
   },
   "file_extension": ".py",
   "mimetype": "text/x-python",
   "name": "python",
   "nbconvert_exporter": "python",
   "pygments_lexer": "ipython3",
   "version": "3.13.7"
  }
 },
 "nbformat": 4,
 "nbformat_minor": 4
}
